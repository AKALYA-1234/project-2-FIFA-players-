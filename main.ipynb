{
 "cells": [
  {
   "cell_type": "code",
   "execution_count": 9,
   "metadata": {},
   "outputs": [],
   "source": [
    "import numpy as np\n",
    "import pandas as pd\n",
    "import matplotlib.pyplot as plt\n",
    "import seaborn as sns"
   ]
  },
  {
   "cell_type": "markdown",
   "metadata": {},
   "source": [
    "Part 1 – Basic Data Understanding (Pandas):"
   ]
  },
  {
   "cell_type": "code",
   "execution_count": 8,
   "metadata": {},
   "outputs": [],
   "source": [
    "df=pd.read_csv(r\"c:\\Users\\DELL\\Downloads\\players_15.csv\",encoding='latin1')"
   ]
  },
  {
   "cell_type": "code",
   "execution_count": 19,
   "metadata": {},
   "outputs": [
    {
     "data": {
      "text/html": [
       "<div>\n",
       "<style scoped>\n",
       "    .dataframe tbody tr th:only-of-type {\n",
       "        vertical-align: middle;\n",
       "    }\n",
       "\n",
       "    .dataframe tbody tr th {\n",
       "        vertical-align: top;\n",
       "    }\n",
       "\n",
       "    .dataframe thead th {\n",
       "        text-align: right;\n",
       "    }\n",
       "</style>\n",
       "<table border=\"1\" class=\"dataframe\">\n",
       "  <thead>\n",
       "    <tr style=\"text-align: right;\">\n",
       "      <th></th>\n",
       "      <th>sofifa_id</th>\n",
       "      <th>player_url</th>\n",
       "      <th>short_name</th>\n",
       "      <th>long_name</th>\n",
       "      <th>age</th>\n",
       "      <th>dob</th>\n",
       "      <th>height_cm</th>\n",
       "      <th>weight_kg</th>\n",
       "      <th>nationality</th>\n",
       "      <th>club_name</th>\n",
       "      <th>...</th>\n",
       "      <th>lwb</th>\n",
       "      <th>ldm</th>\n",
       "      <th>cdm</th>\n",
       "      <th>rdm</th>\n",
       "      <th>rwb</th>\n",
       "      <th>lb</th>\n",
       "      <th>lcb</th>\n",
       "      <th>cb</th>\n",
       "      <th>rcb</th>\n",
       "      <th>rb</th>\n",
       "    </tr>\n",
       "  </thead>\n",
       "  <tbody>\n",
       "    <tr>\n",
       "      <th>0</th>\n",
       "      <td>158023</td>\n",
       "      <td>https://sofifa.com/player/158023/lionel-messi/...</td>\n",
       "      <td>L. Messi</td>\n",
       "      <td>Lionel AndrÃ©s Messi Cuccittini</td>\n",
       "      <td>27</td>\n",
       "      <td>1987-06-24</td>\n",
       "      <td>169</td>\n",
       "      <td>67</td>\n",
       "      <td>Argentina</td>\n",
       "      <td>FC Barcelona</td>\n",
       "      <td>...</td>\n",
       "      <td>62+3</td>\n",
       "      <td>62+3</td>\n",
       "      <td>62+3</td>\n",
       "      <td>62+3</td>\n",
       "      <td>62+3</td>\n",
       "      <td>54+3</td>\n",
       "      <td>45+3</td>\n",
       "      <td>45+3</td>\n",
       "      <td>45+3</td>\n",
       "      <td>54+3</td>\n",
       "    </tr>\n",
       "    <tr>\n",
       "      <th>1</th>\n",
       "      <td>20801</td>\n",
       "      <td>https://sofifa.com/player/20801/c-ronaldo-dos-...</td>\n",
       "      <td>Cristiano Ronaldo</td>\n",
       "      <td>Cristiano Ronaldo dos Santos Aveiro</td>\n",
       "      <td>29</td>\n",
       "      <td>1985-02-05</td>\n",
       "      <td>185</td>\n",
       "      <td>80</td>\n",
       "      <td>Portugal</td>\n",
       "      <td>Real Madrid</td>\n",
       "      <td>...</td>\n",
       "      <td>63+3</td>\n",
       "      <td>63+3</td>\n",
       "      <td>63+3</td>\n",
       "      <td>63+3</td>\n",
       "      <td>63+3</td>\n",
       "      <td>57+3</td>\n",
       "      <td>52+3</td>\n",
       "      <td>52+3</td>\n",
       "      <td>52+3</td>\n",
       "      <td>57+3</td>\n",
       "    </tr>\n",
       "    <tr>\n",
       "      <th>2</th>\n",
       "      <td>9014</td>\n",
       "      <td>https://sofifa.com/player/9014/arjen-robben/15...</td>\n",
       "      <td>A. Robben</td>\n",
       "      <td>Arjen Robben</td>\n",
       "      <td>30</td>\n",
       "      <td>1984-01-23</td>\n",
       "      <td>180</td>\n",
       "      <td>80</td>\n",
       "      <td>Netherlands</td>\n",
       "      <td>FC Bayern MÃ¼nchen</td>\n",
       "      <td>...</td>\n",
       "      <td>64+3</td>\n",
       "      <td>64+3</td>\n",
       "      <td>64+3</td>\n",
       "      <td>64+3</td>\n",
       "      <td>64+3</td>\n",
       "      <td>55+3</td>\n",
       "      <td>46+3</td>\n",
       "      <td>46+3</td>\n",
       "      <td>46+3</td>\n",
       "      <td>55+3</td>\n",
       "    </tr>\n",
       "    <tr>\n",
       "      <th>3</th>\n",
       "      <td>41236</td>\n",
       "      <td>https://sofifa.com/player/41236/zlatan-ibrahim...</td>\n",
       "      <td>Z. IbrahimoviÄ</td>\n",
       "      <td>Zlatan IbrahimoviÄ</td>\n",
       "      <td>32</td>\n",
       "      <td>1981-10-03</td>\n",
       "      <td>195</td>\n",
       "      <td>95</td>\n",
       "      <td>Sweden</td>\n",
       "      <td>Paris Saint-Germain</td>\n",
       "      <td>...</td>\n",
       "      <td>61+3</td>\n",
       "      <td>65+3</td>\n",
       "      <td>65+3</td>\n",
       "      <td>65+3</td>\n",
       "      <td>61+3</td>\n",
       "      <td>56+3</td>\n",
       "      <td>55+3</td>\n",
       "      <td>55+3</td>\n",
       "      <td>55+3</td>\n",
       "      <td>56+3</td>\n",
       "    </tr>\n",
       "    <tr>\n",
       "      <th>4</th>\n",
       "      <td>167495</td>\n",
       "      <td>https://sofifa.com/player/167495/manuel-neuer/...</td>\n",
       "      <td>M. Neuer</td>\n",
       "      <td>Manuel Neuer</td>\n",
       "      <td>28</td>\n",
       "      <td>1986-03-27</td>\n",
       "      <td>193</td>\n",
       "      <td>92</td>\n",
       "      <td>Germany</td>\n",
       "      <td>FC Bayern MÃ¼nchen</td>\n",
       "      <td>...</td>\n",
       "      <td>36+3</td>\n",
       "      <td>40+3</td>\n",
       "      <td>40+3</td>\n",
       "      <td>40+3</td>\n",
       "      <td>36+3</td>\n",
       "      <td>36+3</td>\n",
       "      <td>38+3</td>\n",
       "      <td>38+3</td>\n",
       "      <td>38+3</td>\n",
       "      <td>36+3</td>\n",
       "    </tr>\n",
       "    <tr>\n",
       "      <th>5</th>\n",
       "      <td>176580</td>\n",
       "      <td>https://sofifa.com/player/176580/luis-suarez/1...</td>\n",
       "      <td>L. SuÃ¡rez</td>\n",
       "      <td>Luis Alberto SuÃ¡rez DÃ­az</td>\n",
       "      <td>27</td>\n",
       "      <td>1987-01-24</td>\n",
       "      <td>181</td>\n",
       "      <td>81</td>\n",
       "      <td>Uruguay</td>\n",
       "      <td>FC Barcelona</td>\n",
       "      <td>...</td>\n",
       "      <td>67+3</td>\n",
       "      <td>67+3</td>\n",
       "      <td>67+3</td>\n",
       "      <td>67+3</td>\n",
       "      <td>67+3</td>\n",
       "      <td>62+3</td>\n",
       "      <td>57+3</td>\n",
       "      <td>57+3</td>\n",
       "      <td>57+3</td>\n",
       "      <td>62+3</td>\n",
       "    </tr>\n",
       "    <tr>\n",
       "      <th>6</th>\n",
       "      <td>41</td>\n",
       "      <td>https://sofifa.com/player/41/andres-iniesta-lu...</td>\n",
       "      <td>Iniesta</td>\n",
       "      <td>AndrÃ©s Iniesta LujÃ¡n</td>\n",
       "      <td>30</td>\n",
       "      <td>1984-05-11</td>\n",
       "      <td>170</td>\n",
       "      <td>65</td>\n",
       "      <td>Spain</td>\n",
       "      <td>FC Barcelona</td>\n",
       "      <td>...</td>\n",
       "      <td>76+3</td>\n",
       "      <td>77+3</td>\n",
       "      <td>77+3</td>\n",
       "      <td>77+3</td>\n",
       "      <td>76+3</td>\n",
       "      <td>70+3</td>\n",
       "      <td>63+3</td>\n",
       "      <td>63+3</td>\n",
       "      <td>63+3</td>\n",
       "      <td>70+3</td>\n",
       "    </tr>\n",
       "    <tr>\n",
       "      <th>7</th>\n",
       "      <td>183277</td>\n",
       "      <td>https://sofifa.com/player/183277/eden-hazard/1...</td>\n",
       "      <td>E. Hazard</td>\n",
       "      <td>Eden Hazard</td>\n",
       "      <td>23</td>\n",
       "      <td>1991-01-07</td>\n",
       "      <td>173</td>\n",
       "      <td>74</td>\n",
       "      <td>Belgium</td>\n",
       "      <td>Chelsea</td>\n",
       "      <td>...</td>\n",
       "      <td>62+2</td>\n",
       "      <td>64+2</td>\n",
       "      <td>64+2</td>\n",
       "      <td>64+2</td>\n",
       "      <td>62+2</td>\n",
       "      <td>54+2</td>\n",
       "      <td>46+2</td>\n",
       "      <td>46+2</td>\n",
       "      <td>46+2</td>\n",
       "      <td>54+2</td>\n",
       "    </tr>\n",
       "    <tr>\n",
       "      <th>8</th>\n",
       "      <td>7826</td>\n",
       "      <td>https://sofifa.com/player/7826/robin-van-persi...</td>\n",
       "      <td>R. van Persie</td>\n",
       "      <td>Robin van Persie</td>\n",
       "      <td>30</td>\n",
       "      <td>1983-08-06</td>\n",
       "      <td>187</td>\n",
       "      <td>71</td>\n",
       "      <td>Netherlands</td>\n",
       "      <td>Manchester United</td>\n",
       "      <td>...</td>\n",
       "      <td>60+3</td>\n",
       "      <td>63+3</td>\n",
       "      <td>63+3</td>\n",
       "      <td>63+3</td>\n",
       "      <td>60+3</td>\n",
       "      <td>54+3</td>\n",
       "      <td>48+3</td>\n",
       "      <td>48+3</td>\n",
       "      <td>48+3</td>\n",
       "      <td>54+3</td>\n",
       "    </tr>\n",
       "    <tr>\n",
       "      <th>9</th>\n",
       "      <td>121944</td>\n",
       "      <td>https://sofifa.com/player/121944/bastian-schwe...</td>\n",
       "      <td>B. Schweinsteiger</td>\n",
       "      <td>Bastian Schweinsteiger</td>\n",
       "      <td>29</td>\n",
       "      <td>1984-08-01</td>\n",
       "      <td>183</td>\n",
       "      <td>79</td>\n",
       "      <td>Germany</td>\n",
       "      <td>FC Bayern MÃ¼nchen</td>\n",
       "      <td>...</td>\n",
       "      <td>81+2</td>\n",
       "      <td>84+2</td>\n",
       "      <td>84+2</td>\n",
       "      <td>84+2</td>\n",
       "      <td>81+2</td>\n",
       "      <td>81+2</td>\n",
       "      <td>79+2</td>\n",
       "      <td>79+2</td>\n",
       "      <td>79+2</td>\n",
       "      <td>81+2</td>\n",
       "    </tr>\n",
       "  </tbody>\n",
       "</table>\n",
       "<p>10 rows × 106 columns</p>\n",
       "</div>"
      ],
      "text/plain": [
       "   sofifa_id                                         player_url  \\\n",
       "0     158023  https://sofifa.com/player/158023/lionel-messi/...   \n",
       "1      20801  https://sofifa.com/player/20801/c-ronaldo-dos-...   \n",
       "2       9014  https://sofifa.com/player/9014/arjen-robben/15...   \n",
       "3      41236  https://sofifa.com/player/41236/zlatan-ibrahim...   \n",
       "4     167495  https://sofifa.com/player/167495/manuel-neuer/...   \n",
       "5     176580  https://sofifa.com/player/176580/luis-suarez/1...   \n",
       "6         41  https://sofifa.com/player/41/andres-iniesta-lu...   \n",
       "7     183277  https://sofifa.com/player/183277/eden-hazard/1...   \n",
       "8       7826  https://sofifa.com/player/7826/robin-van-persi...   \n",
       "9     121944  https://sofifa.com/player/121944/bastian-schwe...   \n",
       "\n",
       "          short_name                            long_name  age         dob  \\\n",
       "0           L. Messi      Lionel AndrÃ©s Messi Cuccittini   27  1987-06-24   \n",
       "1  Cristiano Ronaldo  Cristiano Ronaldo dos Santos Aveiro   29  1985-02-05   \n",
       "2          A. Robben                         Arjen Robben   30  1984-01-23   \n",
       "3    Z. IbrahimoviÄ                  Zlatan IbrahimoviÄ   32  1981-10-03   \n",
       "4           M. Neuer                         Manuel Neuer   28  1986-03-27   \n",
       "5         L. SuÃ¡rez           Luis Alberto SuÃ¡rez DÃ­az   27  1987-01-24   \n",
       "6            Iniesta               AndrÃ©s Iniesta LujÃ¡n   30  1984-05-11   \n",
       "7          E. Hazard                          Eden Hazard   23  1991-01-07   \n",
       "8      R. van Persie                     Robin van Persie   30  1983-08-06   \n",
       "9  B. Schweinsteiger               Bastian Schweinsteiger   29  1984-08-01   \n",
       "\n",
       "   height_cm  weight_kg  nationality            club_name  ...   lwb   ldm  \\\n",
       "0        169         67    Argentina         FC Barcelona  ...  62+3  62+3   \n",
       "1        185         80     Portugal          Real Madrid  ...  63+3  63+3   \n",
       "2        180         80  Netherlands   FC Bayern MÃ¼nchen  ...  64+3  64+3   \n",
       "3        195         95       Sweden  Paris Saint-Germain  ...  61+3  65+3   \n",
       "4        193         92      Germany   FC Bayern MÃ¼nchen  ...  36+3  40+3   \n",
       "5        181         81      Uruguay         FC Barcelona  ...  67+3  67+3   \n",
       "6        170         65        Spain         FC Barcelona  ...  76+3  77+3   \n",
       "7        173         74      Belgium              Chelsea  ...  62+2  64+2   \n",
       "8        187         71  Netherlands    Manchester United  ...  60+3  63+3   \n",
       "9        183         79      Germany   FC Bayern MÃ¼nchen  ...  81+2  84+2   \n",
       "\n",
       "    cdm   rdm   rwb    lb   lcb    cb   rcb    rb  \n",
       "0  62+3  62+3  62+3  54+3  45+3  45+3  45+3  54+3  \n",
       "1  63+3  63+3  63+3  57+3  52+3  52+3  52+3  57+3  \n",
       "2  64+3  64+3  64+3  55+3  46+3  46+3  46+3  55+3  \n",
       "3  65+3  65+3  61+3  56+3  55+3  55+3  55+3  56+3  \n",
       "4  40+3  40+3  36+3  36+3  38+3  38+3  38+3  36+3  \n",
       "5  67+3  67+3  67+3  62+3  57+3  57+3  57+3  62+3  \n",
       "6  77+3  77+3  76+3  70+3  63+3  63+3  63+3  70+3  \n",
       "7  64+2  64+2  62+2  54+2  46+2  46+2  46+2  54+2  \n",
       "8  63+3  63+3  60+3  54+3  48+3  48+3  48+3  54+3  \n",
       "9  84+2  84+2  81+2  81+2  79+2  79+2  79+2  81+2  \n",
       "\n",
       "[10 rows x 106 columns]"
      ]
     },
     "execution_count": 19,
     "metadata": {},
     "output_type": "execute_result"
    }
   ],
   "source": [
    "df.head(10)  #Display the first 10 rows"
   ]
  },
  {
   "cell_type": "code",
   "execution_count": 18,
   "metadata": {},
   "outputs": [
    {
     "name": "stdout",
     "output_type": "stream",
     "text": [
      "Shape: (16155, 106)\n",
      "Column name: Index(['sofifa_id', 'player_url', 'short_name', 'long_name', 'age', 'dob',\n",
      "       'height_cm', 'weight_kg', 'nationality', 'club_name',\n",
      "       ...\n",
      "       'lwb', 'ldm', 'cdm', 'rdm', 'rwb', 'lb', 'lcb', 'cb', 'rcb', 'rb'],\n",
      "      dtype='object', length=106)\n",
      "sofifa_id      int64\n",
      "player_url    object\n",
      "short_name    object\n",
      "long_name     object\n",
      "age            int64\n",
      "               ...  \n",
      "lb            object\n",
      "lcb           object\n",
      "cb            object\n",
      "rcb           object\n",
      "rb            object\n",
      "Length: 106, dtype: object\n"
     ]
    }
   ],
   "source": [
    "print(\"Shape:\",df.shape) #print shape of the dataset\n",
    "print(\"Column name:\",df.columns) #print the column name\n",
    "print(df.dtypes) #finding the data type"
   ]
  },
  {
   "cell_type": "code",
   "execution_count": 20,
   "metadata": {},
   "outputs": [
    {
     "data": {
      "text/plain": [
       "sofifa_id     0\n",
       "player_url    0\n",
       "short_name    0\n",
       "long_name     0\n",
       "age           0\n",
       "             ..\n",
       "lb            0\n",
       "lcb           0\n",
       "cb            0\n",
       "rcb           0\n",
       "rb            0\n",
       "Length: 106, dtype: int64"
      ]
     },
     "execution_count": 20,
     "metadata": {},
     "output_type": "execute_result"
    }
   ],
   "source": [
    "df.isnull().sum()  #cheak missing values"
   ]
  },
  {
   "cell_type": "code",
   "execution_count": 21,
   "metadata": {},
   "outputs": [
    {
     "name": "stdout",
     "output_type": "stream",
     "text": [
      "0\n"
     ]
    }
   ],
   "source": [
    "print(df.duplicated().sum())  #find duplicates"
   ]
  },
  {
   "cell_type": "code",
   "execution_count": 22,
   "metadata": {},
   "outputs": [
    {
     "name": "stdout",
     "output_type": "stream",
     "text": [
      "           sofifa_id           age     height_cm     weight_kg   league_rank  \\\n",
      "count   16155.000000  16155.000000  16155.000000  16155.000000  15916.000000   \n",
      "mean   189284.184525     24.776230    181.083627     75.474342      1.378424   \n",
      "std     39749.261554      4.625321      6.618974      6.891796      0.736796   \n",
      "min         2.000000     16.000000    155.000000     50.000000      1.000000   \n",
      "25%    178042.500000     21.000000    176.000000     70.000000      1.000000   \n",
      "50%    200841.000000     24.000000    181.000000     75.000000      1.000000   \n",
      "75%    214346.000000     28.000000    186.000000     80.000000      2.000000   \n",
      "max    225562.000000     44.000000    204.000000    110.000000      4.000000   \n",
      "\n",
      "            overall     potential     value_eur       wage_eur  \\\n",
      "count  16155.000000  16155.000000  1.615500e+04   16155.000000   \n",
      "mean      63.830393     68.350108  1.060882e+06   13056.453110   \n",
      "std        7.169896      6.580610  2.819128e+06   23488.182571   \n",
      "min       40.000000     40.000000  0.000000e+00       0.000000   \n",
      "25%       59.000000     64.000000  1.200000e+05    2000.000000   \n",
      "50%       64.000000     68.000000  3.500000e+05    5000.000000   \n",
      "75%       68.000000     73.000000  8.250000e+05   10000.000000   \n",
      "max       93.000000     95.000000  1.005000e+08  550000.000000   \n",
      "\n",
      "       international_reputation  ...  mentality_penalties  \\\n",
      "count              16155.000000  ...         16155.000000   \n",
      "mean                   1.122501  ...            49.648344   \n",
      "std                    0.396263  ...            14.552244   \n",
      "min                    1.000000  ...            20.000000   \n",
      "25%                    1.000000  ...            39.000000   \n",
      "50%                    1.000000  ...            50.000000   \n",
      "75%                    1.000000  ...            61.000000   \n",
      "max                    5.000000  ...            95.000000   \n",
      "\n",
      "       mentality_composure  defending_marking  defending_standing_tackle  \\\n",
      "count                  0.0       16155.000000               16155.000000   \n",
      "mean                   NaN          45.009037                  47.656639   \n",
      "std                    NaN          17.915206                  18.743105   \n",
      "min                    NaN          20.000000                  20.000000   \n",
      "25%                    NaN          25.000000                  25.000000   \n",
      "50%                    NaN          46.000000                  52.000000   \n",
      "75%                    NaN          61.000000                  64.000000   \n",
      "max                    NaN          90.000000                  91.000000   \n",
      "\n",
      "       defending_sliding_tackle  goalkeeping_diving  goalkeeping_handling  \\\n",
      "count              16155.000000        16155.000000          16155.000000   \n",
      "mean                  45.885918           15.869514             15.511668   \n",
      "std                   18.145497           17.576799             16.414173   \n",
      "min                   20.000000            1.000000              1.000000   \n",
      "25%                   25.000000            8.000000              8.000000   \n",
      "50%                   49.000000           11.000000             11.000000   \n",
      "75%                   62.000000           13.000000             14.000000   \n",
      "max                   95.000000           88.000000             87.000000   \n",
      "\n",
      "       goalkeeping_kicking  goalkeeping_positioning  goalkeeping_reflexes  \n",
      "count         16155.000000             16155.000000          16155.000000  \n",
      "mean             15.354875                15.504735             15.998514  \n",
      "std              16.010498                16.585081             17.983209  \n",
      "min               1.000000                 1.000000              1.000000  \n",
      "25%               8.000000                 8.000000              8.000000  \n",
      "50%              11.000000                10.000000             10.000000  \n",
      "75%              13.000000                13.000000             13.000000  \n",
      "max              92.000000                90.000000             90.000000  \n",
      "\n",
      "[8 rows x 62 columns]\n"
     ]
    }
   ],
   "source": [
    "print(df.describe()) #summary for numerical column"
   ]
  },
  {
   "cell_type": "code",
   "execution_count": 23,
   "metadata": {},
   "outputs": [
    {
     "name": "stdout",
     "output_type": "stream",
     "text": [
      "                                               player_url     short_name  \\\n",
      "count                                               16155          16155   \n",
      "unique                                              16155          15195   \n",
      "top     https://sofifa.com/player/201197/paul-tisdale/...  J. RodrÃ­guez   \n",
      "freq                                                    1              7   \n",
      "\n",
      "          long_name         dob nationality          club_name  \\\n",
      "count         16155       16155       16155              15916   \n",
      "unique        16104        5902         149                577   \n",
      "top     Tommy Smith  1988-01-01     England  Borussia Dortmund   \n",
      "freq              3          18        1627                 33   \n",
      "\n",
      "                        league_name player_positions preferred_foot  \\\n",
      "count                         15916            16155          16155   \n",
      "unique                           37              907              2   \n",
      "top     English League Championship               CB          Right   \n",
      "freq                            711             1853          12478   \n",
      "\n",
      "            work_rate  ...    lwb    ldm    cdm    rdm    rwb     lb    lcb  \\\n",
      "count           16155  ...  16155  16155  16155  16155  16155  16155  16155   \n",
      "unique              9  ...    155    155    155    155    155    159    174   \n",
      "top     Medium/Medium  ...   55+0   59+0   59+0   59+0   55+0   61+0   64+0   \n",
      "freq             9571  ...    600    576    576    576    600    551    480   \n",
      "\n",
      "           cb    rcb     rb  \n",
      "count   16155  16155  16155  \n",
      "unique    174    174    159  \n",
      "top      64+0   64+0   61+0  \n",
      "freq      480    480    551  \n",
      "\n",
      "[4 rows x 44 columns]\n"
     ]
    }
   ],
   "source": [
    "print(df.describe(include=['object'])) #summary for categorical column"
   ]
  },
  {
   "cell_type": "code",
   "execution_count": 25,
   "metadata": {},
   "outputs": [
    {
     "name": "stdout",
     "output_type": "stream",
     "text": [
      "Unique clubs: 577\n",
      "Unique nationalities: 149\n"
     ]
    }
   ],
   "source": [
    "#Number of unique clubs and nationalities\n",
    "print(\"Unique clubs:\", df['club_name'].nunique())\n",
    "print(\"Unique nationalities:\", df['nationality'].nunique())"
   ]
  },
  {
   "cell_type": "code",
   "execution_count": 26,
   "metadata": {},
   "outputs": [
    {
     "name": "stdout",
     "output_type": "stream",
     "text": [
      "England\n"
     ]
    }
   ],
   "source": [
    "#Most common nationality\n",
    "most_common_nation = df['nationality'].value_counts().idxmax()\n",
    "print(most_common_nation)"
   ]
  },
  {
   "cell_type": "code",
   "execution_count": 28,
   "metadata": {},
   "outputs": [
    {
     "name": "stdout",
     "output_type": "stream",
     "text": [
      "Max overall: 93\n",
      "Players with highest overall: ['L. Messi']\n"
     ]
    }
   ],
   "source": [
    "# Highest value in overall and corresponding player\n",
    "max_overall = df['overall'].max()\n",
    "top_players = df[df['overall'] == max_overall]['short_name'].tolist()\n",
    "print(\"Max overall:\", max_overall)\n",
    "print(\"Players with highest overall:\",top_players)"
   ]
  },
  {
   "cell_type": "markdown",
   "metadata": {},
   "source": [
    "Part 2 – EDA (Exploratory Data Analysis):"
   ]
  },
  {
   "cell_type": "code",
   "execution_count": 33,
   "metadata": {},
   "outputs": [
    {
     "data": {
      "image/png": "[encoded data removed]",
      "text/plain": [
       "<Figure size 800x500 with 1 Axes>"
      ]
     },
     "metadata": {},
     "output_type": "display_data"
    }
   ],
   "source": [
    "#Histogram of player ages\n",
    "plt.figure(figsize=(8,5))\n",
    "plt.hist(df['age'], bins=20,color='skyblue',edgecolor='black')\n",
    "plt.title(\"Distribution of Player Ages\")\n",
    "plt.xlabel(\"Age\")\n",
    "plt.ylabel(\"Number of Players\")\n",
    "plt.show()"
   ]
  },
  {
   "cell_type": "code",
   "execution_count": 34,
   "metadata": {},
   "outputs": [
    {
     "name": "stdout",
     "output_type": "stream",
     "text": [
      "           short_name  overall\n",
      "0            L. Messi       93\n",
      "1   Cristiano Ronaldo       92\n",
      "3     Z. IbrahimoviÄ       90\n",
      "2           A. Robben       90\n",
      "4            M. Neuer       90\n",
      "6             Iniesta       89\n",
      "5          L. SuÃ¡rez       89\n",
      "7           E. Hazard       88\n",
      "11             Falcao       88\n",
      "10         F. RibÃ©ry       88\n"
     ]
    }
   ],
   "source": [
    "#Top 10 players by overall rating\n",
    "top10_overall = df[['short_name', 'overall']].sort_values(by='overall', ascending=False).head(10)\n",
    "print(top10_overall)"
   ]
  },
  {
   "cell_type": "code",
   "execution_count": 35,
   "metadata": {},
   "outputs": [
    {
     "name": "stdout",
     "output_type": "stream",
     "text": [
      "club_name\n",
      "Cruz Azul                      28.071429\n",
      "Arsenal Tula                   28.040000\n",
      "Podbeskidzie Bielsko-BiaÅa    27.962963\n",
      "FenerbahÃ§e SK                 27.880000\n",
      "Leones Negros de la UdeG       27.793103\n",
      "                                 ...    \n",
      "PSV                            21.448276\n",
      "Barnsley                       21.428571\n",
      "Crewe Alexandra                21.357143\n",
      "SC Heerenveen                  21.310345\n",
      "FC Barcelona B                 19.107143\n",
      "Name: age, Length: 577, dtype: float64\n"
     ]
    }
   ],
   "source": [
    "#Average player age per club\n",
    "avg_age_per_club = df.groupby('club_name')['age'].mean().sort_values(ascending=False)\n",
    "print(avg_age_per_club)"
   ]
  },
  {
   "cell_type": "code",
   "execution_count": 36,
   "metadata": {},
   "outputs": [
    {
     "data": {
      "image/png": "[encoded data removed]",
      "text/plain": [
       "<Figure size 640x480 with 1 Axes>"
      ]
     },
     "metadata": {},
     "output_type": "display_data"
    }
   ],
   "source": [
    "#Scatter plot: overall vs potential\n",
    "plt.scatter(x='overall', y='potential', data=df, alpha=0.5)\n",
    "plt.title(\"Overall vs Potential\")\n",
    "plt.xlabel(\"Overall Rating\")\n",
    "plt.ylabel(\"Potential Rating\")\n",
    "plt.show()"
   ]
  },
  {
   "cell_type": "code",
   "execution_count": 47,
   "metadata": {},
   "outputs": [
    {
     "data": {
      "image/png": "[encoded data removed]",
      "text/plain": [
       "<Figure size 1000x500 with 1 Axes>"
      ]
     },
     "metadata": {},
     "output_type": "display_data"
    }
   ],
   "source": [
    "#Bar chart: average wage by nationality (top 10)\n",
    "avg_wage_nat = df.groupby('nationality')['wage_eur'].mean().sort_values(ascending=False).head(10)\n",
    "plt.figure(figsize=(10,5))\n",
    "plt.barh(avg_wage_nat.index, avg_wage_nat.values,color='skyblue')\n",
    "plt.title(\"Top 10 Nationalities by Average Wage\")\n",
    "plt.xlabel(\"Average Wage (EUR)\")\n",
    "plt.ylabel(\"Nationality\")\n",
    "plt.show()"
   ]
  },
  {
   "cell_type": "code",
   "execution_count": 52,
   "metadata": {},
   "outputs": [
    {
     "name": "stderr",
     "output_type": "stream",
     "text": [
      "C:\\Users\\DELL\\AppData\\Local\\Temp\\ipykernel_4108\\1220767952.py:5: MatplotlibDeprecationWarning: The 'labels' parameter of boxplot() has been renamed 'tick_labels' since Matplotlib 3.9; support for the old name will be dropped in 3.11.\n",
      "  plt.boxplot(data_to_plot, labels=positions)\n"
     ]
    },
    {
     "data": {
      "image/png": "[encoded data removed]",
      "text/plain": [
       "<Figure size 1200x600 with 1 Axes>"
      ]
     },
     "metadata": {},
     "output_type": "display_data"
    }
   ],
   "source": [
    "#Boxplot of overall ratings grouped by position\n",
    "positions = df['team_position'].unique()\n",
    "data_to_plot = [df[df['team_position'] == pos]['overall'] for pos in positions]\n",
    "plt.figure(figsize=(12,6))\n",
    "plt.boxplot(data_to_plot, labels=positions)\n",
    "plt.title(\"Overall Ratings by Position\")\n",
    "plt.xlabel(\"Position\")\n",
    "plt.ylabel(\"Overall Rating\")\n",
    "plt.xticks(rotation=45)\n",
    "plt.show()"
   ]
  },
  {
   "cell_type": "code",
   "execution_count": 53,
   "metadata": {},
   "outputs": [
    {
     "name": "stdout",
     "output_type": "stream",
     "text": [
      "           short_name  value_eur\n",
      "0            L. Messi  100500000\n",
      "1   Cristiano Ronaldo   79000000\n",
      "4            M. Neuer   63500000\n",
      "2           A. Robben   54500000\n",
      "3     Z. IbrahimoviÄ   52500000\n",
      "5          L. SuÃ¡rez   49500000\n",
      "11             Falcao   46500000\n",
      "23       A. Di MarÃ­a   45500000\n",
      "26         S. AgÃ¼ero   45500000\n",
      "13     R. Lewandowski   44000000\n"
     ]
    }
   ],
   "source": [
    "#Top 10 players with highest market value \n",
    "top10_value = df[['short_name', 'value_eur']].sort_values(by='value_eur', ascending=False).head(10)\n",
    "print(top10_value)"
   ]
  },
  {
   "cell_type": "markdown",
   "metadata": {},
   "source": [
    "Part 3 – Statistics:"
   ]
  },
  {
   "cell_type": "code",
   "execution_count": 55,
   "metadata": {},
   "outputs": [
    {
     "name": "stdout",
     "output_type": "stream",
     "text": [
      "Mean Overall: 63.83\n",
      "Median Overall: 64.0\n",
      "Mode Overall: 64\n"
     ]
    }
   ],
   "source": [
    "# Mean, Median, Mode of overall\n",
    "mean_overall = df['overall'].mean()\n",
    "median_overall = df['overall'].median()\n",
    "mode_overall = df['overall'].mode()[0]\n",
    "print(f\"Mean Overall: {mean_overall:.2f}\")\n",
    "print(f\"Median Overall: {median_overall}\")\n",
    "print(f\"Mode Overall: {mode_overall}\")"
   ]
  },
  {
   "cell_type": "code",
   "execution_count": 56,
   "metadata": {},
   "outputs": [
    {
     "name": "stdout",
     "output_type": "stream",
     "text": [
      "Variance of Overall: 51.41\n",
      "Standard Deviation of Overall: 7.17\n"
     ]
    }
   ],
   "source": [
    "# Variance and Standard Deviation of overall\n",
    "variance_overall = df['overall'].var()\n",
    "std_dev_overall = df['overall'].std()\n",
    "print(f\"Variance of Overall: {variance_overall:.2f}\")\n",
    "print(f\"Standard Deviation of Overall: {std_dev_overall:.2f}\")"
   ]
  },
  {
   "cell_type": "code",
   "execution_count": 57,
   "metadata": {},
   "outputs": [
    {
     "name": "stdout",
     "output_type": "stream",
     "text": [
      "Correlation between Age and Overall: 0.44\n"
     ]
    }
   ],
   "source": [
    "# Correlation between age and overall rating\n",
    "correlation = df['age'].corr(df['overall'])\n",
    "print(f\"Correlation between Age and Overall: {correlation:.2f}\")"
   ]
  },
  {
   "cell_type": "code",
   "execution_count": 58,
   "metadata": {},
   "outputs": [
    {
     "name": "stdout",
     "output_type": "stream",
     "text": [
      "Percentage of Players with Potential > 85: 0.64%\n"
     ]
    }
   ],
   "source": [
    "# Percentage of players with potential > 85\n",
    "percentage_potential = (df[df['potential'] > 85].shape[0] / df.shape[0]) * 100\n",
    "print(f\"Percentage of Players with Potential > 85: {percentage_potential:.2f}%\")"
   ]
  },
  {
   "cell_type": "markdown",
   "metadata": {},
   "source": [
    "Part 4 – Linear Algebra & NumPy:"
   ]
  },
  {
   "cell_type": "code",
   "execution_count": 59,
   "metadata": {},
   "outputs": [],
   "source": [
    "#Create NumPy arrays\n",
    "overall_array = np.array(df['overall'])\n",
    "potential_array = np.array(df['potential'])"
   ]
  },
  {
   "cell_type": "code",
   "execution_count": 62,
   "metadata": {},
   "outputs": [
    {
     "name": "stdout",
     "output_type": "stream",
     "text": [
      "Difference Array (Potential-Overall):\n",
      "[ 2  0  0 ... 10  9  0]\n"
     ]
    }
   ],
   "source": [
    "# Vector subtraction (potential-overall)\n",
    "difference_array = potential_array-overall_array\n",
    "print(\"Difference Array (Potential-Overall):\")\n",
    "print(difference_array)"
   ]
  },
  {
   "cell_type": "code",
   "execution_count": 64,
   "metadata": {},
   "outputs": [
    {
     "name": "stdout",
     "output_type": "stream",
     "text": [
      "Dot Product: 71094023\n"
     ]
    }
   ],
   "source": [
    "#Dot product\n",
    "dot_product = np.dot(overall_array, potential_array)\n",
    "print(f\"Dot Product: {dot_product}\")"
   ]
  },
  {
   "cell_type": "code",
   "execution_count": 66,
   "metadata": {},
   "outputs": [
    {
     "name": "stdout",
     "output_type": "stream",
     "text": [
      "Normalized Overall Array:\n",
      "[0.01139146 0.01126897 0.01102399 ... 0.00489955 0.00489955 0.00489955]\n"
     ]
    }
   ],
   "source": [
    "#Normalize the overall array (vector normalization)\n",
    "norm_overall = np.linalg.norm(overall_array)\n",
    "overall_normalized = overall_array/norm_overall\n",
    "print(f\"Normalized Overall Array:\")\n",
    "print(overall_normalized)"
   ]
  },
  {
   "cell_type": "markdown",
   "metadata": {},
   "source": [
    "Part 5 – Calculus:"
   ]
  },
  {
   "cell_type": "code",
   "execution_count": 67,
   "metadata": {},
   "outputs": [
    {
     "name": "stdout",
     "output_type": "stream",
     "text": [
      "   overall  performance_derivative\n",
      "0       93                     186\n",
      "1       92                     184\n",
      "2       90                     180\n",
      "3       90                     180\n",
      "4       90                     180\n"
     ]
    }
   ],
   "source": [
    "# Derivative formula: d(Performance_Score)/d(overall) = 2*overall\n",
    "df['performance_derivative'] = 2*df['overall']\n",
    "print(df[['overall','performance_derivative']].head())"
   ]
  },
  {
   "cell_type": "markdown",
   "metadata": {},
   "source": [
    "Part 6 – Feature Engineering:"
   ]
  },
  {
   "cell_type": "code",
   "execution_count": 10,
   "metadata": {},
   "outputs": [
    {
     "name": "stdout",
     "output_type": "stream",
     "text": [
      "   overall  potential  growth  high_growth player_positions primary_position\n",
      "0       93         95       2            0               CF               CF\n",
      "1       92         92       0            0           LW, LM               LW\n",
      "2       90         90       0            0       RM, LM, RW               RM\n",
      "3       90         90       0            0               ST               ST\n",
      "4       90         90       0            0               GK               GK\n"
     ]
    }
   ],
   "source": [
    "df=pd.read_csv(r\"c:\\Users\\DELL\\Downloads\\players_15.csv\",encoding='latin1')\n",
    "# Create growth column\n",
    "df['growth'] = df['potential'] - df['overall']\n",
    "# High growth flag\n",
    "df['high_growth'] = (df['growth'] > 5).astype(int)\n",
    "# Extract primary position\n",
    "df['primary_position'] = df['player_positions'].apply(lambda x: x.split(',')[0] if pd.notnull(x) else None)\n",
    "# Display sample\n",
    "print(df[['overall', 'potential', 'growth', 'high_growth', 'player_positions', 'primary_position']].head())\n"
   ]
  },
  {
   "cell_type": "markdown",
   "metadata": {},
   "source": [
    "Part 7 – SQL Simulation in Pandas:"
   ]
  },
  {
   "cell_type": "code",
   "execution_count": 11,
   "metadata": {},
   "outputs": [
    {
     "name": "stdout",
     "output_type": "stream",
     "text": [
      "Players with overall > 85:\n",
      "           short_name  overall\n",
      "0            L. Messi       93\n",
      "1   Cristiano Ronaldo       92\n",
      "2           A. Robben       90\n",
      "3     Z. IbrahimoviÄ       90\n",
      "4            M. Neuer       90\n",
      "5          L. SuÃ¡rez       89\n",
      "6             Iniesta       89\n",
      "7           E. Hazard       88\n",
      "8       R. van Persie       88\n",
      "9   B. Schweinsteiger       88\n",
      "10         F. RibÃ©ry       88\n",
      "11             Falcao       88\n",
      "12            G. Bale       87\n",
      "13     R. Lewandowski       87\n",
      "14            P. Lahm       87\n",
      "15       Sergio Ramos       87\n",
      "16       Thiago Silva       87\n",
      "17        David Silva       87\n",
      "18         L. ModriÄ       87\n",
      "19      J. RodrÃ­guez       86\n",
      "20             Neymar       86\n",
      "21        T. Courtois       86\n",
      "22         M. Hummels       86\n",
      "23       A. Di MarÃ­a       86\n",
      "24            M. Reus       86\n",
      "25         T. MÃ¼ller       86\n",
      "26         S. AgÃ¼ero       86\n",
      "27           M. Ãzil       86\n",
      "28               Xavi       86\n",
      "29          Y. TourÃ©       86\n",
      "30          W. Rooney       86\n",
      "31         V. Kompany       86\n"
     ]
    }
   ],
   "source": [
    "#Select all players with overall > 85\n",
    "players_over_85 = df[df['overall'] > 85]\n",
    "print(players_over_85[['short_name', 'overall']])"
   ]
  },
  {
   "cell_type": "code",
   "execution_count": 12,
   "metadata": {},
   "outputs": [
    {
     "name": "stdout",
     "output_type": "stream",
     "text": [
      "              short_name  value_eur\n",
      "0               L. Messi  100500000\n",
      "1      Cristiano Ronaldo   79000000\n",
      "4               M. Neuer   63500000\n",
      "2              A. Robben   54500000\n",
      "3        Z. IbrahimoviÄ   52500000\n",
      "...                  ...        ...\n",
      "6972       G. Giacomazzi          0\n",
      "7250        M. Previtali          0\n",
      "7263            W. DÃ­az          0\n",
      "7204            D. Penny          0\n",
      "10504    Cho Young Cheol          0\n",
      "\n",
      "[16155 rows x 2 columns]\n"
     ]
    }
   ],
   "source": [
    "#Sort players by value_eur descending\n",
    "sorted_by_value = df.sort_values(by='value_eur', ascending=False)\n",
    "print(sorted_by_value[['short_name', 'value_eur']])"
   ]
  },
  {
   "cell_type": "code",
   "execution_count": 13,
   "metadata": {},
   "outputs": [
    {
     "name": "stdout",
     "output_type": "stream",
     "text": [
      "           nationality  player_count\n",
      "0              Albania            33\n",
      "1              Algeria            41\n",
      "2               Angola             6\n",
      "3    Antigua & Barbuda             4\n",
      "4            Argentina           867\n",
      "..                 ...           ...\n",
      "144         Uzbekistan             6\n",
      "145          Venezuela            51\n",
      "146              Wales           118\n",
      "147             Zambia             4\n",
      "148           Zimbabwe            12\n",
      "\n",
      "[149 rows x 2 columns]\n"
     ]
    }
   ],
   "source": [
    "#Group by nationality and count players\n",
    "nat_col = [col for col in df.columns if 'nation' in col.lower()][0]\n",
    "players_by_nation = df.groupby(nat_col).size().reset_index(name='player_count')\n",
    "print(players_by_nation)"
   ]
  },
  {
   "cell_type": "code",
   "execution_count": 14,
   "metadata": {},
   "outputs": [
    {
     "name": "stdout",
     "output_type": "stream",
     "text": [
      "\n",
      "Top 5 clubs with highest average overall:\n",
      "club_name\n",
      "FC Barcelona           80.120000\n",
      "FC Bayern MÃ¼nchen     78.586207\n",
      "Paris Saint-Germain    77.666667\n",
      "Milan                  76.666667\n",
      "Real Madrid            75.212121\n",
      "Name: overall, dtype: float64\n"
     ]
    }
   ],
   "source": [
    "#Get top 5 clubs with highest average overall\n",
    "top_5_clubs = df.groupby('club_name')['overall'].mean().sort_values(ascending=False).head(5)\n",
    "print(top_5_clubs)"
   ]
  },
  {
   "cell_type": "code",
   "execution_count": 15,
   "metadata": {},
   "outputs": [
    {
     "name": "stdout",
     "output_type": "stream",
     "text": [
      "\n",
      "Number of players with 'Forward' in positions: 0\n"
     ]
    }
   ],
   "source": [
    "#Count players with \"Forward\" in player_positions\n",
    "forward_players_count = df['player_positions'].str.contains(\"Forward\", case=False, na=False).sum()\n",
    "print(f\"\\nNumber of players with 'Forward' in positions: {forward_players_count}\")"
   ]
  },
  {
   "cell_type": "markdown",
   "metadata": {},
   "source": [
    "Part 8 – Insights:"
   ]
  },
  {
   "cell_type": "code",
   "execution_count": null,
   "metadata": {},
   "outputs": [],
   "source": [
    "#Player with highest market value \n",
    "highest_value_player = df.loc[df['value_eur'].idxmax(), ['short_name', 'value_eur']]\n",
    "print(highest_value_player)"
   ]
  },
  {
   "cell_type": "code",
   "execution_count": 16,
   "metadata": {},
   "outputs": [
    {
     "name": "stdout",
     "output_type": "stream",
     "text": [
      "\n",
      "Club with highest average overall: FC Barcelona (80.12)\n"
     ]
    }
   ],
   "source": [
    "#Club with highest average overall rating\n",
    "club_highest_avg_overall = df.groupby('club_name')['overall'].mean().idxmax()\n",
    "club_highest_avg_value = df.groupby('club_name')['overall'].mean().max()\n",
    "print(f\"\\nClub with highest average overall: {club_highest_avg_overall} ({club_highest_avg_value:.2f})\")"
   ]
  },
  {
   "cell_type": "code",
   "execution_count": 17,
   "metadata": {},
   "outputs": [
    {
     "name": "stdout",
     "output_type": "stream",
     "text": [
      "\n",
      "Nationality with most players: England (1627 players)\n"
     ]
    }
   ],
   "source": [
    "#Nationality with most players \n",
    "nat_col = [col for col in df.columns if 'nation' in col.lower()][0]\n",
    "top_nationality = df[nat_col].value_counts().idxmax()\n",
    "top_nationality_count = df[nat_col].value_counts().max()\n",
    "print(f\"\\nNationality with most players: {top_nationality} ({top_nationality_count} players)\")"
   ]
  },
  {
   "cell_type": "code",
   "execution_count": 18,
   "metadata": {},
   "outputs": [
    {
     "name": "stdout",
     "output_type": "stream",
     "text": [
      "\n",
      "Correlation between potential and overall: 0.80\n"
     ]
    }
   ],
   "source": [
    "#Correlation between potential and overall \n",
    "correlation = df['potential'].corr(df['overall'])\n",
    "print(f\"\\nCorrelation between potential and overall: {correlation:.2f}\")"
   ]
  },
  {
   "cell_type": "code",
   "execution_count": 19,
   "metadata": {},
   "outputs": [
    {
     "name": "stdout",
     "output_type": "stream",
     "text": [
      "\n",
      "Percentage of elite players: 0.28%\n"
     ]
    }
   ],
   "source": [
    "#Percentage of elite players (overall >= 85) \n",
    "elite_percentage = (df['overall'] >= 85).mean() * 100\n",
    "print(f\"\\nPercentage of elite players: {elite_percentage:.2f}%\")"
   ]
  },
  {
   "cell_type": "markdown",
   "metadata": {},
   "source": [
    "EXTRA TASKS:"
   ]
  },
  {
   "cell_type": "code",
   "execution_count": null,
   "metadata": {},
   "outputs": [],
   "source": []
  },
  {
   "cell_type": "code",
   "execution_count": null,
   "metadata": {},
   "outputs": [],
   "source": []
  },
  {
   "cell_type": "code",
   "execution_count": null,
   "metadata": {},
   "outputs": [],
   "source": []
  },
  {
   "cell_type": "code",
   "execution_count": null,
   "metadata": {},
   "outputs": [],
   "source": []
  },
  {
   "cell_type": "code",
   "execution_count": null,
   "metadata": {},
   "outputs": [],
   "source": []
  }
 ],
 "metadata": {
  "kernelspec": {
   "display_name": "venv",
   "language": "python",
   "name": "python3"
  },
  "language_info": {
   "codemirror_mode": {
    "name": "ipython",
    "version": 3
   },
   "file_extension": ".py",
   "mimetype": "text/x-python",
   "name": "python",
   "nbconvert_exporter": "python",
   "pygments_lexer": "ipython3",
   "version": "3.13.5"
  }
 },
 "nbformat": 4,
 "nbformat_minor": 2
}
